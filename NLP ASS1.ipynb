{
 "cells": [
  {
   "cell_type": "code",
   "execution_count": 3,
   "id": "1943f7ef-f377-48f3-a352-c99ff76783fb",
   "metadata": {},
   "outputs": [
    {
     "name": "stdout",
     "output_type": "stream",
     "text": [
      "Answer: COVID-19 is caused by the SARS-CoV-2 virus...\n"
     ]
    },
    {
     "name": "stderr",
     "output_type": "stream",
     "text": [
      "[nltk_data] Downloading package punkt to\n",
      "[nltk_data]     C:\\Users\\vinot\\AppData\\Roaming\\nltk_data...\n",
      "[nltk_data]   Package punkt is already up-to-date!\n",
      "[nltk_data] Downloading package stopwords to\n",
      "[nltk_data]     C:\\Users\\vinot\\AppData\\Roaming\\nltk_data...\n",
      "[nltk_data]   Package stopwords is already up-to-date!\n"
     ]
    }
   ],
   "source": [
    "import nltk\n",
    "from nltk.tokenize import word_tokenize, sent_tokenize\n",
    "from nltk.corpus import stopwords\n",
    "\n",
    "# Download NLTK data files\n",
    "nltk.download('punkt')\n",
    "nltk.download('stopwords')\n",
    "\n",
    "def preprocess(text):\n",
    "    stop_words = set(stopwords.words('english'))\n",
    "    words = word_tokenize(text.lower())\n",
    "    filtered_words = [word for word in words if word.isalnum() and word not in stop_words]\n",
    "    return filtered_words\n",
    "\n",
    "context = \"COVID-19 is caused by the SARS-CoV-2 virus...\"\n",
    "question = \"What are the symptoms of COVID-19?\"\n",
    "\n",
    "sentences = sent_tokenize(context)\n",
    "processed_sentences = [preprocess(sentence) for sentence in sentences]\n",
    "processed_question = preprocess(question)\n",
    "\n",
    "def sentence_score(sentence, question):\n",
    "    common_words = set(sentence) & set(question)\n",
    "    return len(common_words)\n",
    "\n",
    "sentence_scores = [sentence_score(sentence, processed_question) for sentence in processed_sentences]\n",
    "best_sentence_index = sentence_scores.index(max(sentence_scores))\n",
    "best_sentence = sentences[best_sentence_index]\n",
    "\n",
    "print(f\"Answer: {best_sentence}\")"
   ]
  },
  {
   "cell_type": "code",
   "execution_count": null,
   "id": "28827518-9123-4001-9efe-da119f15391f",
   "metadata": {},
   "outputs": [],
   "source": []
  }
 ],
 "metadata": {
  "kernelspec": {
   "display_name": "Python 3 (ipykernel)",
   "language": "python",
   "name": "python3"
  },
  "language_info": {
   "codemirror_mode": {
    "name": "ipython",
    "version": 3
   },
   "file_extension": ".py",
   "mimetype": "text/x-python",
   "name": "python",
   "nbconvert_exporter": "python",
   "pygments_lexer": "ipython3",
   "version": "3.11.7"
  }
 },
 "nbformat": 4,
 "nbformat_minor": 5
}
